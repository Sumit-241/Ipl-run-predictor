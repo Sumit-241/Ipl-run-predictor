{
 "cells": [
  {
   "cell_type": "code",
   "execution_count": 7,
   "id": "0b7eb0ae",
   "metadata": {},
   "outputs": [],
   "source": [
    "import csv\n",
    "import pandas as pd\n",
    "import tensorflow as tf\n",
    "import sklearn.model_selection\n",
    "import tensorflow as tf\n",
    "from sklearn.preprocessing import MinMaxScaler, StandardScaler\n",
    "import matplotlib.pyplot as plt\n",
    "from mpl_toolkits import mplot3d\n",
    "plt.style.use('seaborn-poster')"
   ]
  },
  {
   "cell_type": "code",
   "execution_count": 11,
   "id": "0c34eccd",
   "metadata": {},
   "outputs": [],
   "source": [
    "def finder(batsmen,bowler):\n",
    "    dic={0: 7.66,\n",
    "    1:\t9.06,\n",
    "    2:\t8.5,\n",
    "    3:\t7.02,\n",
    "    4:\t7.7,\n",
    "    5:\t8.02,\n",
    "    6:\t7.69,\n",
    "    7:\t8.26,\n",
    "    8:\t7.82,\n",
    "    9:\t7.5,\n",
    "    10:\t9.5,\n",
    "    11:\t7.02,\n",
    "    12:\t7.5,\n",
    "    13:\t10.1,\n",
    "    14:\t7.52,\n",
    "    15:\t7.53,\n",
    "    16:\t8.12,\n",
    "    17:\t7.34,\n",
    "    18:\t7.01,\n",
    "    19:\t7.01,\n",
    "    20:\t5.1,\n",
    "    21:\t5.5,\n",
    "    22:\t7.5,\n",
    "    23:\t7.01,\n",
    "    24:\t7.02,\n",
    "    25:\t8.26,\n",
    "    26:\t8.02,\n",
    "    27:\t6.29,\n",
    "    28:\t7.02,\n",
    "    29:\t4.02,\n",
    "    30:\t7.02,\n",
    "    31:\t8.01,\n",
    "    32:\t8.5,\n",
    "    33:\t8.02,\n",
    "    34:\t8.5,\n",
    "    35:\t10.02,\n",
    "    36:\t10.02,\n",
    "    37:\t7.5,\n",
    "    38:\t6.01,\n",
    "    39:\t7.5,\n",
    "    40:\t8.02,\n",
    "    41:\t7.51,\n",
    "    42:\t9.5,\n",
    "    43:\t7.63,\n",
    "    44:\t6.83,\n",
    "    45:\t8.14,\n",
    "    46:\t8.28,\n",
    "    47:\t6.88,\n",
    "    48:\t7.69,\n",
    "    49:\t8.28,\n",
    "    50:\t7.74,\n",
    "    51:\t7.5,\n",
    "    52:\t7.98,\n",
    "    53:\t7.22,\n",
    "    54:\t9.36,\n",
    "    55:\t8.88,\n",
    "    56:\t7.06,\n",
    "    57:\t8.01,\n",
    "    58:\t7.21,\n",
    "    59:\t8.28,\n",
    "    60:\t8.51,\n",
    "    61:\t7.92,\n",
    "    62:\t8.93,\n",
    "    63:\t7.45,\n",
    "    64:\t9.16,\n",
    "    65:\t8.97}\n",
    "    with open('all_matches.csv', mode='r') as csv_file:\n",
    "        csv_reader = csv.reader(csv_file)\n",
    "        balls = 0\n",
    "        ball=1\n",
    "        rr=0\n",
    "        fours=0\n",
    "        six=0\n",
    "        extras=0\n",
    "        avg=0\n",
    "        for row in csv_reader: #iterating over the rows of data\n",
    "            if row[8]==batsmen:\n",
    "                if row[10]==bowler:\n",
    "                    balls=balls+1\n",
    "                    if int(row[11])<4: #getting no boundary runs\n",
    "                        rr=rr+int(row[11])\n",
    "                        ball=ball+1\n",
    "                    if int(row[11])==4: #getting no.of 4's\n",
    "                        fours=fours+1\n",
    "                    if int(row[11])==6: #getting no.of 6's\n",
    "                        six=six+1\n",
    "                    extras=extras+int(row[12]) #runs due to extras\n",
    "        balls=balls/6 #total no.of overs played\n",
    "        bats = ['RD Gaikwad','F du Plessis','MM Ali','SK Raina','Ms Dhoni','RV Uthappa','PP Shaw','S Dhawan','AM Rahane','RR Pant','MP Stoinis','SO Hetmyer','JC Buttler','M Vohra','SV Samson','DA Miller','S Dube','KL Rahul','MA Agarwal','CH Gayle','N Pooran','DJ Hooda','DA Warner','WP Saha','JM Bairstow','MK Pandey','KS Williamson','SP Goswami','JJ Roy','V Kohli','D Padikkal','Shahbaz Ahmed','Washington Sundar','GJ Maxwell','AB de Villiers','RG Sharma','Q de Kock','SA Yadav','Ishan Kishan','CA Lynn','HH Pandya','N Rana','Shubman Gill','RA Tripathi','EJG Morgan','KD Karthik','AD Russell']\n",
    "        batsman=bats.index(batsmen)+1 #giving a numerical value to batsmen.\n",
    "        bowlers=[\"DL Chahar\", \"SN Thakur\",\n",
    "\"DJ Bravo\", \"SM Curran\", \"RA Jadeja\", \"MM Ali\",\n",
    "\"L Ngidi\", \"K Gowtham\",\n",
    "\"Imran Tahir\", \"JP Behrendorff\", \"MP Stoinis\",\n",
    "\"CR Woakes\", \"R Ashwin\", \"TK Curran\", \"A Mishra\", \"Avesh Khan\", \"I Sharma\", \"AR Patel\", \"K Rabada\", \"A Nortje\", \"JJ Bumrah\", \"TA Boult\", \"M Jansen\", \"RD Chahar\", \"KH Pandya\",\n",
    "\"DS Kulkarni\", \"Sandeep Sharma\", \"T Nataranjan\", \"B Kumar\", \"Rashid Khan\", \"JO Holder\",\n",
    "\"S Nadeem\", \"K Ahmed\",\n",
    "\"Mustafizur Rahman\", \"CH Morris\",\n",
    "\"R Tewatia\", \"JD Unadkat\", \"Kartik Tyagi\", \"JC Archer\", \"AJ Tye\",\n",
    "\"Mohammed Shami\", \"ArshDeep Singh\", \"CJ Jordan\",\n",
    "\"HV Patel\", \"Mohammed Siraj\", \"KA Jamieson\", \"NA Saini\",\n",
    "\"Washington Sundar\", \"YS Chahal\",\n",
    "\"KW Richardson\", \"A Zampa\",\n",
    "\"DR Sams\",\n",
    "\"DT Christian\", \"Shahbaz Ahmed\",\n",
    "\"M Prasidh Krishna\", \"KL Nagarakoti\", \"Harbhajam Singh\", \"PJ Cummins\",\n",
    "\"CV Varun\",\n",
    "\"Kuldeep Yadav\", \"LH Ferguson\",\n",
    "\"S Sandeep Warrier\", \"Shivam Mavi\", \"Shakib Al Hasan\", \"BCJ Cutting\",\n",
    "\"AD Russel\",\n",
    "]\n",
    "        bowl=dic[bowlers.index(bowler)] #getting economy of bowlers\n",
    "        return([batsman,bowl,rr/ball,fours/balls,six/balls,extras/balls])"
   ]
  },
  {
   "cell_type": "code",
   "execution_count": 12,
   "id": "8e0fb342",
   "metadata": {},
   "outputs": [],
   "source": [
    "df=pd.read_csv('batsmen/final_data.csv') #reading csv file of all matches\n",
    "dfinput=df[[\"batsmen\",\"bowler\"]]\n",
    "dfout=df[[\"runs\",\"fours\",\"six\",\"extras\"]]"
   ]
  },
  {
   "cell_type": "code",
   "execution_count": null,
   "id": "683fd5ea",
   "metadata": {},
   "outputs": [
    {
     "name": "stdout",
     "output_type": "stream",
     "text": [
      "RD Gaikwad\n",
      "F du Plessis\n",
      "MM Ali\n",
      "SK Raina\n",
      "Ms Dhoni\n",
      "RV Uthappa\n",
      "PP Shaw\n",
      "S Dhawan\n",
      "AM Rahane\n",
      "RR Pant\n",
      "MP Stoinis\n",
      "SO Hetmyer\n",
      "JC Buttler\n",
      "M Vohra\n",
      "SV Samson\n",
      "DA Miller\n",
      "S Dube\n",
      "KL Rahul\n",
      "MA Agarwal\n",
      "CH Gayle\n",
      "N Pooran\n",
      "DJ Hooda\n",
      "DA Warner\n",
      "WP Saha\n",
      "JM Bairstow\n",
      "MK Pandey\n",
      "KS Williamson\n",
      "SP Goswami\n",
      "JJ Roy\n",
      "V Kohli\n",
      "D Padikkal\n",
      "Shahbaz Ahmed\n",
      "Washington Sundar\n",
      "GJ Maxwell\n",
      "AB de Villiers\n",
      "RG Sharma\n",
      "Q de Kock\n",
      "SA Yadav\n",
      "Ishan Kishan\n",
      "CA Lynn\n",
      "HH Pandya\n",
      "N Rana\n",
      "Shubman Gill\n",
      "RA Tripathi\n"
     ]
    }
   ],
   "source": [
    "filename = \"IPL/\"+\"final_data\"+\".csv\" \n",
    "with open(filename, 'w') as csvfile: \n",
    "    csvwriter = csv.writer(csvfile) \n",
    "    csvwriter.writerow([\"batsmen\",\"bowler\",\"runs\",\"fours\",\"six\",\"extras\",\"balls\"]) \n",
    "    for i in batsmen:\n",
    "        print(i)\n",
    "        for j in bowlers:\n",
    "            try:\n",
    "                csvwriter.writerow(finder(i,j))\n",
    "            except ZeroDivisionError:\n",
    "                pass\n",
    "   "
   ]
  },
  {
   "cell_type": "code",
   "execution_count": 15,
   "id": "768cd899",
   "metadata": {},
   "outputs": [],
   "source": [
    "bowlers=[\"DL Chahar\", \"SN Thakur\",\n",
    "\"DJ Bravo\", \"SM Curran\", \"RA Jadeja\", \"MM Ali\",\n",
    "\"L Ngidi\", \"K Gowtham\",\n",
    "\"Imran Tahir\", \"JP Behrendorff\", \"MP Stoinis\",\n",
    "\"CR Woakes\", \"R Ashwin\", \"TK Curran\", \"A Mishra\", \"Avesh Khan\", \"I Sharma\", \"AR Patel\", \"K Rabada\", \"A Nortje\", \"JJ Bumrah\", \"TA Boult\", \"M Jansen\", \"RD Chahar\", \"KH Pandya\",\n",
    "\"DS Kulkarni\", \"Sandeep Sharma\", \"T Nataranjan\", \"B Kumar\", \"Rashid Khan\", \"JO Holder\",\n",
    "\"S Nadeem\", \"K Ahmed\",\n",
    "\"Mustafizur Rahman\", \"CH Morris\",\n",
    "\"R Tewatia\", \"JD Unadkat\", \"Kartik Tyagi\", \"JC Archer\", \"AJ Tye\",\n",
    "\"Mohammed Shami\", \"ArshDeep Singh\", \"CJ Jordan\",\n",
    "\"HV Patel\", \"Mohammed Siraj\", \"KA Jamieson\", \"NA Saini\",\n",
    "\"Washington Sundar\", \"YS Chahal\",\n",
    "\"KW Richardson\", \"A Zampa\",\n",
    "\"DR Sams\",\n",
    "\"DT Christian\", \"Shahbaz Ahmed\",\n",
    "\"M Prasidh Krishna\", \"KL Nagarakoti\", \"Harbhajam Singh\", \"PJ Cummins\",\n",
    "\"CV Varun\",\n",
    "\"Kuldeep Yadav\", \"LH Ferguson\",\n",
    "\"S Sandeep Warrier\", \"Shivam Mavi\", \"Shakib Al Hasan\", \"BCJ Cutting\",\n",
    "\"AD Russel\",\n",
    "]\n"
   ]
  },
  {
   "cell_type": "code",
   "execution_count": 16,
   "id": "c7b0b43c",
   "metadata": {},
   "outputs": [],
   "source": [
    "batsmen = ['RD Gaikwad','F du Plessis','MM Ali','SK Raina','Ms Dhoni','RV Uthappa','PP Shaw','S Dhawan','AM Rahane','RR Pant','MP Stoinis','SO Hetmyer','JC Buttler','M Vohra','SV Samson','DA Miller','S Dube','KL Rahul','MA Agarwal','CH Gayle','N Pooran','DJ Hooda','DA Warner','WP Saha','JM Bairstow','MK Pandey','KS Williamson','SP Goswami','JJ Roy','V Kohli','D Padikkal','Shahbaz Ahmed','Washington Sundar','GJ Maxwell','AB de Villiers','RG Sharma','Q de Kock','SA Yadav','Ishan Kishan','CA Lynn','HH Pandya','N Rana','Shubman Gill','RA Tripathi','EJG Morgan','KD Karthik','AD Russell']"
   ]
  },
  {
   "cell_type": "code",
   "execution_count": null,
   "id": "9efcb691",
   "metadata": {},
   "outputs": [],
   "source": [
    "l=[batsmen.index(\"JC Buttler\"),batsmen.index(\"D Padikkal\"),batsmen.index(\"N Rana\")]"
   ]
  },
  {
   "cell_type": "code",
   "execution_count": 302,
   "id": "74ae2ea6",
   "metadata": {},
   "outputs": [
    {
     "name": "stdout",
     "output_type": "stream",
     "text": [
      "Model: \"sequential_19\"\n",
      "_________________________________________________________________\n",
      " Layer (type)                Output Shape              Param #   \n",
      "=================================================================\n",
      " dense_46 (Dense)            (None, 2)                 6         \n",
      "                                                                 \n",
      " dense_47 (Dense)            (None, 4)                 12        \n",
      "                                                                 \n",
      "=================================================================\n",
      "Total params: 18\n",
      "Trainable params: 18\n",
      "Non-trainable params: 0\n",
      "_________________________________________________________________\n"
     ]
    }
   ],
   "source": [
    "model=tf.keras.Sequential()\n",
    "model.add(tf.keras.layers.Dense(2, input_dim=2))\n",
    "model.add(tf.keras.layers.Dense(4))\n",
    "model.compile(optimizer=tf.optimizers.Adam(learning_rate=0.1),loss='mean_absolute_error')\n",
    "model.summary()"
   ]
  },
  {
   "cell_type": "code",
   "execution_count": null,
   "id": "377bd184",
   "metadata": {},
   "outputs": [],
   "source": [
    "model.fit(dfinput,dfout,epochs=500)"
   ]
  },
  {
   "cell_type": "code",
   "execution_count": null,
   "id": "ba52ec65",
   "metadata": {},
   "outputs": [],
   "source": [
    "(model.predict([[2,10.02]])+(model.predict([[2,10.02]])*0.34))[0][0]"
   ]
  },
  {
   "cell_type": "code",
   "execution_count": null,
   "id": "43e7a9ff",
   "metadata": {},
   "outputs": [],
   "source": [
    "model.save(\"scorepredict\")"
   ]
  },
  {
   "cell_type": "code",
   "execution_count": null,
   "id": "92d2f22b",
   "metadata": {},
   "outputs": [],
   "source": [
    "def predictor(batsmen,bowlers,model):\n",
    "    l=6/len(bowlers)\n",
    "    s=0\n",
    "    for i in bowlers:\n",
    "        for j in batsmen:\n",
    "            x=model.predict([[j,i]])[0]\n",
    "            s=s+x[1]*4+x[2]*6+x[3]+x[0]*(6-(x[1]+x[2]))-((x[2]*6*(0.3)+x[1]*4*0.3+x[0]*0.3)*(len(batsmen)-2))\n",
    "    print(s) \n",
    "    "
   ]
  },
  {
   "cell_type": "code",
   "execution_count": null,
   "id": "44ff7bb8",
   "metadata": {},
   "outputs": [],
   "source": [
    "finder(l,bowl,model)"
   ]
  },
  {
   "cell_type": "code",
   "execution_count": null,
   "id": "c0564123",
   "metadata": {},
   "outputs": [],
   "source": [
    "bowl=[dic[bowlers.index(\"Mohammed Siraj\")],dic[bowlers.index(\"HV Patel\")],dic[bowlers.index(\"NA Saini\")]]"
   ]
  },
  {
   "cell_type": "code",
   "execution_count": null,
   "id": "b0926587",
   "metadata": {},
   "outputs": [],
   "source": [
    "model.predict([[dfinput[\"batsmen\"],dfinput[\"bowler\"]]][0])\n"
   ]
  },
  {
   "cell_type": "code",
   "execution_count": null,
   "id": "362aaeb7",
   "metadata": {},
   "outputs": [],
   "source": [
    "fig = plt.figure(figsize = (8,8))\n",
    "ax = plt.axes(projection='3d')\n",
    "ax.grid()\n",
    "x = dfinput[\"bowler\"]\n",
    "y = dfinput[\"batsmen\"]\n",
    "tr = dfout[\"runs\"]\n",
    "tf = dfout[\"fours\"]\n",
    "ts = dfout[\"six\"]\n",
    "te=dfout[\"extras\"]\n",
    "\n",
    "ax.plot3D(x, y, tr,\".\")\n",
    "ax.plot3D(x, y, tf,\".\")\n",
    "ax.plot3D(x, y, ts,\".\")\n",
    "ax.plot3D(x, y, te,\".\")\n",
    "ax.set_title('3D Plot')"
   ]
  },
  {
   "cell_type": "code",
   "execution_count": null,
   "id": "08a749cb",
   "metadata": {},
   "outputs": [],
   "source": [
    "l=[]\n",
    "for i in dfinput[\"batsmen\"]:\n",
    "    for j in dfinput[\"bowler\"]:\n",
    "        l.append(model.predict([[i,j]]))"
   ]
  },
  {
   "cell_type": "code",
   "execution_count": null,
   "id": "1c934396",
   "metadata": {},
   "outputs": [],
   "source": [
    "len(l)"
   ]
  },
  {
   "cell_type": "code",
   "execution_count": 21,
   "id": "a3bf7b36",
   "metadata": {},
   "outputs": [
    {
     "name": "stdout",
     "output_type": "stream",
     "text": [
      "48.01\n"
     ]
    }
   ],
   "source": [
    "print(\"48.01\")"
   ]
  },
  {
   "cell_type": "code",
   "execution_count": null,
   "id": "5ba54e67",
   "metadata": {},
   "outputs": [],
   "source": []
  }
 ],
 "metadata": {
  "kernelspec": {
   "display_name": "Python 3 (ipykernel)",
   "language": "python",
   "name": "python3"
  },
  "language_info": {
   "codemirror_mode": {
    "name": "ipython",
    "version": 3
   },
   "file_extension": ".py",
   "mimetype": "text/x-python",
   "name": "python",
   "nbconvert_exporter": "python",
   "pygments_lexer": "ipython3",
   "version": "3.9.7"
  }
 },
 "nbformat": 4,
 "nbformat_minor": 5
}
